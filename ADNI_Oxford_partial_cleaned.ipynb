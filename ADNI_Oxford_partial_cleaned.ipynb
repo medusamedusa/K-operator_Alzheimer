{
 "cells": [
  {
   "cell_type": "markdown",
   "metadata": {
    "id": "MUCDvCp898lg"
   },
   "source": [
    "# ADNI and the K-operator\n",
    "\n",
    "Using the visualization of connectivity matrices mutuated from Sidney Hough, Julian Quevedo, and Pino Cholsaipant (https://i.imgur.com/FYaEgKW.jpg).\n",
    "\n",
    "Here: application to the ADNI dataset (Alzheimer-Perusini) disease.\n",
    "\n",
    "Here: Harvard-Oxford atlas, and focus on the subcortical, hippocampal, and temporal regions"
   ]
  },
  {
   "cell_type": "markdown",
   "metadata": {
    "id": "rI1tZB5M_le7"
   },
   "source": [
    "All the imports and installs we'll need.\n"
   ]
  },
  {
   "cell_type": "code",
   "execution_count": null,
   "metadata": {},
   "outputs": [],
   "source": [
    "import os\n",
    "import torch\n",
    "from torch import nn\n",
    "import numpy as np\n",
    "import matplotlib.pyplot as plt\n",
    "from tqdm import tqdm\n",
    "\n",
    "from nilearn import datasets\n",
    "from nilearn import plotting\n",
    "from nilearn.input_data import NiftiMapsMasker\n",
    "from nilearn.connectome import ConnectivityMeasure\n",
    "\n",
    "import torch.nn.functional as F\n",
    "from torch.nn import Sequential, Linear, ReLU, GRU, BatchNorm1d\n",
    "from torch_geometric.nn import EdgeConv, GCNConv, GraphConv\n",
    "from torch_geometric.nn import global_mean_pool\n",
    "from torch_geometric.data import InMemoryDataset, Data, DataLoader\n",
    "from torch_geometric.utils import from_networkx\n",
    "\n",
    "import networkx as nx\n",
    "from networkx.convert_matrix import from_numpy_matrix\n",
    "\n",
    "import os\n",
    "import torch\n",
    "from torch import nn\n",
    "import numpy as np\n",
    "import matplotlib.pyplot as plt\n",
    "from tqdm import tqdm\n",
    "\n",
    "from nilearn import datasets\n",
    "from nilearn import plotting\n",
    "from nilearn.input_data import NiftiMapsMasker\n",
    "from nilearn.connectome import ConnectivityMeasure\n",
    "\n",
    "import torch.nn.functional as F\n",
    "from torch.nn import Sequential, Linear, ReLU, GRU, BatchNorm1d\n",
    "from torch_geometric.nn import EdgeConv, GCNConv, GraphConv\n",
    "from torch_geometric.nn import global_mean_pool\n",
    "from torch_geometric.data import InMemoryDataset, Data, DataLoader\n",
    "from torch_geometric.utils import from_networkx\n",
    "\n",
    "import networkx as nx\n",
    "from networkx.convert_matrix import from_numpy_matrix"
   ]
  },
  {
   "cell_type": "code",
   "execution_count": null,
   "metadata": {},
   "outputs": [],
   "source": []
  },
  {
   "cell_type": "code",
   "execution_count": null,
   "metadata": {},
   "outputs": [],
   "source": []
  },
  {
   "cell_type": "code",
   "execution_count": null,
   "metadata": {},
   "outputs": [],
   "source": [
    "from nilearn import datasets\n",
    "\n",
    "# Fetch the Harvard-Oxford atlas\n",
    "atlas = datasets.fetch_atlas_harvard_oxford('cort-maxprob-thr25-2mm')\n",
    "\n",
    "\n",
    "#datasets.fetch_atlas_harvard_oxford('sub-maxprob-thr25-2mm')\n",
    "\n",
    "# Print the labels and their corresponding indices\n",
    "for idx, label in enumerate(atlas.labels):\n",
    "    print(f\"Index {idx}: {label}\")\n"
   ]
  },
  {
   "cell_type": "code",
   "execution_count": null,
   "metadata": {},
   "outputs": [],
   "source": []
  },
  {
   "cell_type": "code",
   "execution_count": null,
   "metadata": {},
   "outputs": [],
   "source": [
    "# MALE patient 1"
   ]
  },
  {
   "cell_type": "code",
   "execution_count": null,
   "metadata": {},
   "outputs": [],
   "source": [
    "######\n",
    "\n",
    "\n",
    "# ADNI\n",
    "\n",
    "####\n",
    "\n",
    "# PART 1.\n",
    "\n",
    "# loading DICOM image\n",
    "# conversion to NIfTI\n",
    "# analysis of connectivity with Nilearn\n",
    "\n",
    "import os\n",
    "import dicom2nifti\n",
    "import dicom2nifti.settings as settings\n",
    "import pydicom\n",
    "\n",
    "\n",
    "dicom_folder = \"/Users/mariamannone/Downloads/ADNI 4/002_S_5018/Resting_State_fMRI/2013-02-11_07_46_12.0/I358614\"\n",
    "\n",
    "output_folder = \"/Users/mariamannone/Desktop/new_phd_/DICOM_converted_ADNI_6_AAL/\"\n",
    "\n",
    "\n",
    "# Create the output folder if it doesn't exist\n",
    "os.makedirs(output_folder, exist_ok=True)\n",
    "\n",
    "# Convert DICOM to NIfTI using dicom2nifti\n",
    "settings.disable_validate_slice_increment()\n",
    "dicom_files = [os.path.join(dicom_folder, file) for file in os.listdir(dicom_folder) if file.endswith(\".dcm\")]\n",
    "\n",
    "# Load the DICOM data\n",
    "dicom_data = [pydicom.dcmread(file) for file in dicom_files]\n",
    "\n",
    "# Convert DICOM to NIfTI\n",
    "nifti_file = os.path.join(output_folder, \"output.nii.gz\")\n",
    "dicom2nifti.convert_directory(dicom_folder, nifti_file, compression=True, reorient=True)\n"
   ]
  },
  {
   "cell_type": "code",
   "execution_count": null,
   "metadata": {},
   "outputs": [],
   "source": [
    "######\n",
    "\n",
    "# PART 2.\n",
    "\n",
    "# Opening the .nii file, and computing its connectivity etc. with Nilearn\n",
    "\n",
    "\n",
    "from nilearn import datasets, input_data, connectome\n",
    "import nibabel as nib\n",
    "import matplotlib.pyplot as plt\n",
    "import numpy as np\n",
    "\n",
    "\n",
    "nifti_file = \"/Users/mariamannone/Desktop/new_phd_/DICOM_converted_ADNI_6_AAL/output.nii.gz/501_resting_state_fmri.nii.gz\"\n",
    "fmri_img = nib.load(nifti_file)\n",
    "\n",
    "# Load a standard atlas (e.g., Harvard-Oxford atlas)\n",
    "atlas = datasets.fetch_atlas_harvard_oxford('cort-maxprob-thr25-2mm')\n",
    "\n",
    "#datasets.fetch_atlas_harvard_oxford('sub-maxprob-thr25-2mm')\n",
    "\n",
    "# Create a masker using the atlas\n",
    "masker = input_data.NiftiLabelsMasker(labels_img=atlas.maps,\n",
    "                                      standardize=True,\n",
    "                                      memory='nilearn_cache')\n",
    "\n",
    "# Extract time series from ROIs\n",
    "time_series = masker.fit_transform(fmri_img)\n",
    "\n",
    "# Compute correlation matrix\n",
    "correlation_matrix = connectome.ConnectivityMeasure(kind='correlation')\n",
    "correlation_matrix.fit([time_series])\n",
    "\n",
    "# Get the computed connectivity matrix\n",
    "connectivity_matrix = correlation_matrix.mean_\n",
    "\n",
    "# Create a heatmap of the connectivity matrix with a colorbar\n",
    "plt.imshow(connectivity_matrix, cmap='viridis', interpolation='nearest')\n",
    "plt.colorbar(label='Correlation')\n",
    "plt.title('Connectivity Matrix')\n",
    "plt.xlabel('ROIs')\n",
    "plt.ylabel('ROIs')\n",
    "plt.show()\n",
    "\n"
   ]
  },
  {
   "cell_type": "code",
   "execution_count": null,
   "metadata": {},
   "outputs": [],
   "source": [
    "# STORE\n",
    "\n",
    "male_BL = connectivity_matrix "
   ]
  },
  {
   "cell_type": "code",
   "execution_count": null,
   "metadata": {},
   "outputs": [],
   "source": [
    "# April 19, clear command\n",
    "\n",
    "\n",
    "del time_series, correlation_matrix, connectivity_matrix\n"
   ]
  },
  {
   "cell_type": "code",
   "execution_count": null,
   "metadata": {},
   "outputs": [],
   "source": [
    "# OTHER Measurement, same male patient 1"
   ]
  },
  {
   "cell_type": "code",
   "execution_count": null,
   "metadata": {},
   "outputs": [],
   "source": [
    "######\n",
    "\n",
    "\n",
    "# ADNI\n",
    "\n",
    "####\n",
    "\n",
    "# PART 1.\n",
    "\n",
    "# loading DICOM image\n",
    "# conversion to NIfTI\n",
    "# analysis of connectivity with Nilearn\n",
    "\n",
    "import os\n",
    "import dicom2nifti\n",
    "import dicom2nifti.settings as settings\n",
    "import pydicom\n",
    "\n",
    "dicom_folder = \"/Users/mariamannone/Downloads/ADNI 5/006_S_4153/Resting_State_fMRI/2011-11-04_11_36_04.0/I264987\"\n",
    "\n",
    "output_folder = \"/Users/mariamannone/Desktop/new_phd_/DICOM_converted_ADNI_10_oxford/\"\n",
    "\n",
    "# Create the output folder if it doesn't exist\n",
    "os.makedirs(output_folder, exist_ok=True)\n",
    "\n",
    "# Convert DICOM to NIfTI using dicom2nifti\n",
    "settings.disable_validate_slice_increment()\n",
    "dicom_files = [os.path.join(dicom_folder, file) for file in os.listdir(dicom_folder) if file.endswith(\".dcm\")]\n",
    "\n",
    "# Load the DICOM data\n",
    "dicom_data = [pydicom.dcmread(file) for file in dicom_files]\n",
    "\n",
    "# Convert DICOM to NIfTI\n",
    "nifti_file = os.path.join(output_folder, \"output.nii.gz\")\n",
    "dicom2nifti.convert_directory(dicom_folder, nifti_file, compression=True, reorient=True)\n"
   ]
  },
  {
   "cell_type": "code",
   "execution_count": null,
   "metadata": {},
   "outputs": [],
   "source": [
    "######\n",
    "\n",
    "# PART 2.\n",
    "\n",
    "# Opening the .nii file, and computing its connectivity etc. with Nilearn\n",
    "\n",
    "\n",
    "from nilearn import datasets, input_data, connectome\n",
    "import nibabel as nib\n",
    "import matplotlib.pyplot as plt\n",
    "import numpy as np\n",
    "\n",
    "\n",
    "# Load the NIfTI file\n",
    "nifti_file = \"/Users/mariamannone/Desktop/new_phd_/DICOM_converted_ADNI_10_oxford/output.nii.gz/801_resting_state_fmri.nii.gz\"\n",
    "fmri_img = nib.load(nifti_file)\n",
    "\n",
    "# Load a standard atlas (e.g., Harvard-Oxford atlas)\n",
    "atlas = datasets.fetch_atlas_harvard_oxford('cort-maxprob-thr25-2mm')\n",
    "\n",
    "\n",
    "# Create a masker using the atlas\n",
    "masker = input_data.NiftiLabelsMasker(labels_img=atlas.maps,\n",
    "                                      standardize=True,\n",
    "                                      memory='nilearn_cache')\n",
    "\n",
    "# Extract time series from ROIs\n",
    "time_series = masker.fit_transform(fmri_img)\n",
    "\n",
    "# Compute correlation matrix\n",
    "correlation_matrix_fu1 = connectome.ConnectivityMeasure(kind='correlation')\n",
    "correlation_matrix_fu1.fit([time_series])\n",
    "\n",
    "# Get the computed connectivity matrix\n",
    "connectivity_matrix_fu1 = correlation_matrix_fu1.mean_\n",
    "\n",
    "# Create a heatmap of the connectivity matrix with a colorbar\n",
    "plt.imshow(connectivity_matrix_fu1, cmap='viridis', interpolation='nearest')\n",
    "plt.colorbar(label='Correlation')\n",
    "plt.title('Connectivity Matrix')\n",
    "plt.xlabel('ROIs')\n",
    "plt.ylabel('ROIs')\n",
    "plt.show()\n",
    "\n"
   ]
  },
  {
   "cell_type": "code",
   "execution_count": null,
   "metadata": {},
   "outputs": [],
   "source": [
    "# STORE\n",
    "\n",
    "male_FU = connectivity_matrix_fu1\n"
   ]
  },
  {
   "cell_type": "code",
   "execution_count": null,
   "metadata": {},
   "outputs": [],
   "source": [
    "# April 19, clear command\n",
    "\n",
    "\n",
    "\n",
    "del correlation_matrix, connectivity_matrix\n"
   ]
  },
  {
   "cell_type": "code",
   "execution_count": null,
   "metadata": {},
   "outputs": [],
   "source": []
  },
  {
   "cell_type": "code",
   "execution_count": null,
   "metadata": {},
   "outputs": [],
   "source": []
  },
  {
   "cell_type": "code",
   "execution_count": null,
   "metadata": {},
   "outputs": [],
   "source": [
    "# K for the male 1, directly for the subcortical detail\n",
    "\n",
    "\n",
    "\n",
    "# Define the lobe mapping with only the specified blocks\n",
    "lobe_mapping = {\n",
    "    'Selection_area': [8, 9, 10, 11, 12, 13, 14, 15, 16, 34, 35, 37, 38, 39, 40, 46]\n",
    "}\n",
    "\n",
    "matrix1 = male_BL # connectivity_matrix\n",
    "matrix2 = male_FU # connectivity_matrix_fu1\n",
    "\n",
    "# Compute the inverse of matrix1\n",
    "inverse_matrix1 = np.linalg.inv(matrix1)\n",
    "\n",
    "\n",
    "# Define the lobe mapping with only the specified blocks\n",
    "lobe_mapping = {\n",
    "    'Selection_area': [8, 9, 10, 11, 12, 13, 14, 15, 16, 34, 35, 37, 38, 39, 40, 46]\n",
    "}\n",
    "\n",
    "\n",
    "# Function to visualize submatrix for a given lobe\n",
    "def visualize_submatrix_for_lobe(lobe):\n",
    "    lobe_indices = lobe_mapping[lobe]\n",
    "    submatrix = np.zeros((len(lobe_indices), len(lobe_indices)))\n",
    "    submatrix_labels = [atlas_labels[i] for i in lobe_indices]  # Get ROI labels\n",
    "\n",
    "    for i, roi1 in enumerate(lobe_indices):\n",
    "        for j, roi2 in enumerate(lobe_indices):\n",
    "            submatrix[i, j] = matrix2[roi1, roi2] * inverse_matrix1[roi2, roi1]\n",
    "\n",
    "    # Plot heatmap for the submatrix\n",
    "    title = f\"K for parahippocampus and fusiform\"\n",
    "    plt.figure(dpi=300)\n",
    "    plotting.plot_matrix(submatrix, labels=submatrix_labels, colorbar=True, vmax=1, vmin=-1, title=title)\n",
    "    plotting.show()\n",
    "\n",
    "# Visualize submatrices for each lobe\n",
    "for lobe in lobe_mapping:\n",
    "    visualize_submatrix_for_lobe(lobe)\n",
    "\n",
    "\n",
    "\n",
    "\n",
    "\n"
   ]
  },
  {
   "cell_type": "code",
   "execution_count": null,
   "metadata": {},
   "outputs": [],
   "source": []
  },
  {
   "cell_type": "code",
   "execution_count": null,
   "metadata": {},
   "outputs": [],
   "source": []
  },
  {
   "cell_type": "code",
   "execution_count": null,
   "metadata": {},
   "outputs": [],
   "source": []
  },
  {
   "cell_type": "code",
   "execution_count": null,
   "metadata": {},
   "outputs": [],
   "source": []
  },
  {
   "cell_type": "code",
   "execution_count": null,
   "metadata": {},
   "outputs": [],
   "source": []
  },
  {
   "cell_type": "code",
   "execution_count": null,
   "metadata": {},
   "outputs": [],
   "source": []
  },
  {
   "cell_type": "code",
   "execution_count": null,
   "metadata": {},
   "outputs": [],
   "source": []
  },
  {
   "cell_type": "code",
   "execution_count": null,
   "metadata": {},
   "outputs": [],
   "source": []
  },
  {
   "cell_type": "code",
   "execution_count": null,
   "metadata": {},
   "outputs": [],
   "source": []
  },
  {
   "cell_type": "code",
   "execution_count": null,
   "metadata": {},
   "outputs": [],
   "source": []
  },
  {
   "cell_type": "code",
   "execution_count": null,
   "metadata": {},
   "outputs": [],
   "source": []
  },
  {
   "cell_type": "code",
   "execution_count": null,
   "metadata": {},
   "outputs": [],
   "source": []
  },
  {
   "cell_type": "code",
   "execution_count": null,
   "metadata": {},
   "outputs": [],
   "source": []
  },
  {
   "cell_type": "code",
   "execution_count": null,
   "metadata": {},
   "outputs": [],
   "source": []
  },
  {
   "cell_type": "code",
   "execution_count": null,
   "metadata": {},
   "outputs": [],
   "source": []
  },
  {
   "cell_type": "code",
   "execution_count": null,
   "metadata": {},
   "outputs": [],
   "source": [
    "# After having computed data for other patients, we can try a prediction, given the baseline of a new patient."
   ]
  },
  {
   "cell_type": "code",
   "execution_count": null,
   "metadata": {},
   "outputs": [],
   "source": [
    "####\n",
    "\n",
    "# PREDICTION\n",
    "\n",
    "####\n",
    "\n",
    "\n",
    "# Using a regression:\n",
    "\n",
    "import numpy as np\n",
    "from sklearn.linear_model import LinearRegression\n",
    "\n",
    "# Defined before: female_BL, female_FU, male_BL, male_FU, new_patient\n",
    "# define measured_new_patient_FU, K_measured\n",
    "# compute estimated_new_patient_FU, K_predicted \n",
    "\n",
    "Matrix1 = female_BL\n",
    "Matrix2 = female_FU\n",
    "Matrix3 = male_BL\n",
    "Matrix4 = male_FU\n",
    "\n",
    "# a new male patient at the baseline: \n",
    "Matrix5 = new_patient\n",
    "\n",
    "# his real 1st FU:\n",
    "Matrix6 = measured_new_patient_FU\n",
    "\n",
    "# Calculate K matrices\n",
    "K_1 = np.dot(female_FU, np.linalg.inv(female_BL))\n",
    "K_2 = np.dot(male_FU, np.linalg.inv(male_BL))\n",
    "\n",
    "\n",
    "# Prepare your training data\n",
    "X_train = np.vstack((female_BL.flatten(), male_BL.flatten()))  # Flatten the matrices and stack them vertically\n",
    "y_train = np.array([K_1.flatten(), K_2.flatten()])  # Flatten the K matrices and convert to array\n",
    "\n",
    "# Define the linear regression model\n",
    "model = LinearRegression()\n",
    "\n",
    "# Train the linear regression model\n",
    "model.fit(X_train, y_train)\n",
    "\n",
    "# Predict K_3 for the new patient\n",
    "estimated_new_patient_FU = new_patient.flatten().reshape(1, 2304)\n",
    "K_predicted = model.predict(estimated_new_patient_FU).reshape(1, 2304) \n",
    "\n",
    "# Reshape back to the original configuration\n",
    "new_patient = new_patient.reshape(48, 48)\n",
    "K_predicted = K_predicted.reshape(48, 48)\n",
    "\n",
    "\n",
    "\n",
    "\n",
    "plt.imshow(K_predicted, cmap='viridis', interpolation='nearest')\n",
    "plt.colorbar(label='Correlation')\n",
    "plt.title('Predicted K')\n",
    "plt.xlabel('ROIs')\n",
    "plt.ylabel('ROIs')\n",
    "plt.show()\n",
    "\n",
    "\n",
    "K_measured = np.dot(Matrix6, np.linalg.inv(Matrix5))\n",
    "\n",
    "\n",
    "plt.imshow(K_measured, cmap='viridis', interpolation='nearest')\n",
    "plt.colorbar(label='Correlation')\n",
    "plt.title('Measured K')\n",
    "plt.xlabel('ROIs')\n",
    "plt.ylabel('ROIs')\n",
    "plt.show()\n",
    "\n",
    "\n",
    "# Compute the Frobenius norm (distance) between the two matrices\n",
    "frobenius_distance = np.linalg.norm(K_predicted - K_measured, ord='fro')\n",
    "\n",
    "print(\"Frobenius Distance:\", frobenius_distance)\n",
    "\n",
    "\n",
    "# check the approximations\n",
    "\n",
    "tolerance = 1 # e-6 # 10\n",
    "is_close = np.allclose(K_predicted, K_measured, atol=tolerance)\n",
    "\n",
    "if is_close:\n",
    "    print(\"The predicted K-operator IS CLOSE to the real one, with a tolerance of \", tolerance)\n",
    "else:\n",
    "    print(\"The predicted K-operator IS NOT CLOSE to the real one, with a tolerance of \", tolerance)\n",
    "    "
   ]
  },
  {
   "cell_type": "code",
   "execution_count": null,
   "metadata": {},
   "outputs": [],
   "source": [
    "def visualize_submatrix_for_lobe(lobe):\n",
    "    lobe_indices = lobe_mapping[lobe]\n",
    "    submatrix = np.zeros((len(lobe_indices), len(lobe_indices)))\n",
    "    submatrix_labels = [atlas_labels[i] for i in lobe_indices]  # Get ROI labels\n",
    "\n",
    "    for i, roi1 in enumerate(lobe_indices):\n",
    "        for j, roi2 in enumerate(lobe_indices):\n",
    "            submatrix[i, j] = K_predicted[roi1, roi2] * inverse_matrix1[roi2, roi1]\n",
    "\n",
    "    # Plot heatmap for the submatrix\n",
    "    title = f\"K for parahippocampus and fusiform\"\n",
    "    plt.figure(dpi=300)\n",
    "    plotting.plot_matrix(submatrix, labels=submatrix_labels, colorbar=True, vmax=1, vmin=-1, title=title)\n",
    "    plotting.show()\n",
    "\n",
    "# Visualize submatrices for each lobe\n",
    "for lobe in lobe_mapping:\n",
    "    visualize_submatrix_for_lobe(lobe)\n",
    "    \n",
    "# Visualizing predicted K for the considered selection"
   ]
  },
  {
   "cell_type": "code",
   "execution_count": null,
   "metadata": {},
   "outputs": [],
   "source": [
    "def visualize_submatrix_for_lobe(lobe):\n",
    "    lobe_indices = lobe_mapping[lobe]\n",
    "    submatrix = np.zeros((len(lobe_indices), len(lobe_indices)))\n",
    "    submatrix_labels = [atlas_labels[i] for i in lobe_indices]  # Get ROI labels\n",
    "\n",
    "    for i, roi1 in enumerate(lobe_indices):\n",
    "        for j, roi2 in enumerate(lobe_indices):\n",
    "            submatrix[i, j] = K_measured[roi1, roi2] * inverse_matrix1[roi2, roi1]\n",
    "\n",
    "    # Plot heatmap for the submatrix\n",
    "    title = f\"K for parahippocampus and fusiform\"\n",
    "    plt.figure(dpi=300)\n",
    "    plotting.plot_matrix(submatrix, labels=submatrix_labels, colorbar=True, vmax=1, vmin=-1, title=title)\n",
    "    plotting.show()\n",
    "\n",
    "# Visualize submatrices for each lobe\n",
    "for lobe in lobe_mapping:\n",
    "    visualize_submatrix_for_lobe(lobe)\n",
    "    \n",
    "# Visualizing predicted K for the considered selection"
   ]
  },
  {
   "cell_type": "code",
   "execution_count": null,
   "metadata": {},
   "outputs": [],
   "source": []
  },
  {
   "cell_type": "code",
   "execution_count": null,
   "metadata": {},
   "outputs": [],
   "source": []
  },
  {
   "cell_type": "code",
   "execution_count": null,
   "metadata": {},
   "outputs": [],
   "source": []
  },
  {
   "cell_type": "code",
   "execution_count": null,
   "metadata": {},
   "outputs": [],
   "source": []
  },
  {
   "cell_type": "code",
   "execution_count": null,
   "metadata": {},
   "outputs": [],
   "source": []
  },
  {
   "cell_type": "code",
   "execution_count": null,
   "metadata": {},
   "outputs": [],
   "source": []
  },
  {
   "cell_type": "code",
   "execution_count": null,
   "metadata": {},
   "outputs": [],
   "source": []
  },
  {
   "cell_type": "code",
   "execution_count": null,
   "metadata": {},
   "outputs": [],
   "source": []
  },
  {
   "cell_type": "code",
   "execution_count": null,
   "metadata": {},
   "outputs": [],
   "source": []
  },
  {
   "cell_type": "code",
   "execution_count": null,
   "metadata": {},
   "outputs": [],
   "source": []
  },
  {
   "cell_type": "code",
   "execution_count": null,
   "metadata": {},
   "outputs": [],
   "source": []
  },
  {
   "cell_type": "code",
   "execution_count": null,
   "metadata": {},
   "outputs": [],
   "source": []
  },
  {
   "cell_type": "code",
   "execution_count": null,
   "metadata": {},
   "outputs": [],
   "source": []
  },
  {
   "cell_type": "code",
   "execution_count": null,
   "metadata": {},
   "outputs": [],
   "source": []
  },
  {
   "cell_type": "code",
   "execution_count": null,
   "metadata": {},
   "outputs": [],
   "source": []
  },
  {
   "cell_type": "code",
   "execution_count": null,
   "metadata": {},
   "outputs": [],
   "source": []
  },
  {
   "cell_type": "code",
   "execution_count": null,
   "metadata": {},
   "outputs": [],
   "source": []
  },
  {
   "cell_type": "code",
   "execution_count": null,
   "metadata": {},
   "outputs": [],
   "source": []
  },
  {
   "cell_type": "code",
   "execution_count": null,
   "metadata": {},
   "outputs": [],
   "source": []
  },
  {
   "cell_type": "code",
   "execution_count": null,
   "metadata": {},
   "outputs": [],
   "source": []
  },
  {
   "cell_type": "code",
   "execution_count": null,
   "metadata": {},
   "outputs": [],
   "source": []
  },
  {
   "cell_type": "code",
   "execution_count": null,
   "metadata": {},
   "outputs": [],
   "source": []
  },
  {
   "cell_type": "code",
   "execution_count": null,
   "metadata": {},
   "outputs": [],
   "source": []
  },
  {
   "cell_type": "code",
   "execution_count": null,
   "metadata": {
    "scrolled": true
   },
   "outputs": [],
   "source": []
  },
  {
   "cell_type": "code",
   "execution_count": null,
   "metadata": {},
   "outputs": [],
   "source": []
  },
  {
   "cell_type": "code",
   "execution_count": null,
   "metadata": {},
   "outputs": [],
   "source": []
  },
  {
   "cell_type": "code",
   "execution_count": null,
   "metadata": {},
   "outputs": [],
   "source": []
  },
  {
   "cell_type": "code",
   "execution_count": null,
   "metadata": {},
   "outputs": [],
   "source": []
  },
  {
   "cell_type": "code",
   "execution_count": null,
   "metadata": {},
   "outputs": [],
   "source": []
  },
  {
   "cell_type": "code",
   "execution_count": null,
   "metadata": {},
   "outputs": [],
   "source": []
  }
 ],
 "metadata": {
  "accelerator": "GPU",
  "colab": {
   "machine_shape": "hm",
   "provenance": []
  },
  "kernelspec": {
   "display_name": "Python 3 (ipykernel)",
   "language": "python",
   "name": "python3"
  },
  "language_info": {
   "codemirror_mode": {
    "name": "ipython",
    "version": 3
   },
   "file_extension": ".py",
   "mimetype": "text/x-python",
   "name": "python",
   "nbconvert_exporter": "python",
   "pygments_lexer": "ipython3",
   "version": "3.9.7"
  }
 },
 "nbformat": 4,
 "nbformat_minor": 1
}
